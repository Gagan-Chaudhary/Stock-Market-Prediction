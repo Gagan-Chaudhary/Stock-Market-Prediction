{
  "nbformat": 4,
  "nbformat_minor": 0,
  "metadata": {
    "colab": {
      "name": "stock-market-prediction.ipynb",
      "provenance": []
    },
    "kernelspec": {
      "name": "python3",
      "display_name": "Python 3"
    },
    "language_info": {
      "name": "python"
    }
  },
  "cells": [
    {
      "cell_type": "code",
      "metadata": {
        "id": "J8BJ7RPZ2bMf"
      },
      "source": [
        "import math\n",
        "import pandas_datareader as web\n",
        "import numpy as np\n",
        "import pandas as pd\n",
        "from sklearn.preprocessing import  MinMaxScaler\n",
        "from keras.models import Sequential\n",
        "from keras.layers import Dense, LSTM\n",
        "import matplotlib.pyplot as plt\n",
        "plt.style.use('fivethirtyeight')"
      ],
      "execution_count": null,
      "outputs": []
    },
    {
      "cell_type": "code",
      "metadata": {
        "colab": {
          "base_uri": "https://localhost:8080/",
          "height": 450
        },
        "id": "ARt6L8oD2hoH",
        "outputId": "00d4c55e-82c9-41ae-ab2e-24caa063ddaa"
      },
      "source": [
        "df = web.DataReader('NFLX',data_source='yahoo',start='2012-01-01',end='2021-04-25')\n",
        "df"
      ],
      "execution_count": null,
      "outputs": [
        {
          "output_type": "execute_result",
          "data": {
            "text/html": [
              "<div>\n",
              "<style scoped>\n",
              "    .dataframe tbody tr th:only-of-type {\n",
              "        vertical-align: middle;\n",
              "    }\n",
              "\n",
              "    .dataframe tbody tr th {\n",
              "        vertical-align: top;\n",
              "    }\n",
              "\n",
              "    .dataframe thead th {\n",
              "        text-align: right;\n",
              "    }\n",
              "</style>\n",
              "<table border=\"1\" class=\"dataframe\">\n",
              "  <thead>\n",
              "    <tr style=\"text-align: right;\">\n",
              "      <th></th>\n",
              "      <th>High</th>\n",
              "      <th>Low</th>\n",
              "      <th>Open</th>\n",
              "      <th>Close</th>\n",
              "      <th>Volume</th>\n",
              "      <th>Adj Close</th>\n",
              "    </tr>\n",
              "    <tr>\n",
              "      <th>Date</th>\n",
              "      <th></th>\n",
              "      <th></th>\n",
              "      <th></th>\n",
              "      <th></th>\n",
              "      <th></th>\n",
              "      <th></th>\n",
              "    </tr>\n",
              "  </thead>\n",
              "  <tbody>\n",
              "    <tr>\n",
              "      <th>2012-01-03</th>\n",
              "      <td>10.388571</td>\n",
              "      <td>10.018571</td>\n",
              "      <td>10.040000</td>\n",
              "      <td>10.320000</td>\n",
              "      <td>29213800.0</td>\n",
              "      <td>10.320000</td>\n",
              "    </tr>\n",
              "    <tr>\n",
              "      <th>2012-01-04</th>\n",
              "      <td>11.567143</td>\n",
              "      <td>10.258571</td>\n",
              "      <td>10.335714</td>\n",
              "      <td>11.492857</td>\n",
              "      <td>100489900.0</td>\n",
              "      <td>11.492857</td>\n",
              "    </tr>\n",
              "    <tr>\n",
              "      <th>2012-01-05</th>\n",
              "      <td>11.694286</td>\n",
              "      <td>11.040000</td>\n",
              "      <td>11.345714</td>\n",
              "      <td>11.328571</td>\n",
              "      <td>86552900.0</td>\n",
              "      <td>11.328571</td>\n",
              "    </tr>\n",
              "    <tr>\n",
              "      <th>2012-01-06</th>\n",
              "      <td>12.471429</td>\n",
              "      <td>11.242857</td>\n",
              "      <td>11.302857</td>\n",
              "      <td>12.327143</td>\n",
              "      <td>125610800.0</td>\n",
              "      <td>12.327143</td>\n",
              "    </tr>\n",
              "    <tr>\n",
              "      <th>2012-01-09</th>\n",
              "      <td>14.235714</td>\n",
              "      <td>12.448571</td>\n",
              "      <td>12.801429</td>\n",
              "      <td>14.025714</td>\n",
              "      <td>214073300.0</td>\n",
              "      <td>14.025714</td>\n",
              "    </tr>\n",
              "    <tr>\n",
              "      <th>...</th>\n",
              "      <td>...</td>\n",
              "      <td>...</td>\n",
              "      <td>...</td>\n",
              "      <td>...</td>\n",
              "      <td>...</td>\n",
              "      <td>...</td>\n",
              "    </tr>\n",
              "    <tr>\n",
              "      <th>2021-04-19</th>\n",
              "      <td>556.440002</td>\n",
              "      <td>545.530029</td>\n",
              "      <td>546.900024</td>\n",
              "      <td>554.440002</td>\n",
              "      <td>4288700.0</td>\n",
              "      <td>554.440002</td>\n",
              "    </tr>\n",
              "    <tr>\n",
              "      <th>2021-04-20</th>\n",
              "      <td>563.559998</td>\n",
              "      <td>546.299988</td>\n",
              "      <td>554.419983</td>\n",
              "      <td>549.570007</td>\n",
              "      <td>11257600.0</td>\n",
              "      <td>549.570007</td>\n",
              "    </tr>\n",
              "    <tr>\n",
              "      <th>2021-04-21</th>\n",
              "      <td>515.460022</td>\n",
              "      <td>503.600006</td>\n",
              "      <td>508.000000</td>\n",
              "      <td>508.899994</td>\n",
              "      <td>22897400.0</td>\n",
              "      <td>508.899994</td>\n",
              "    </tr>\n",
              "    <tr>\n",
              "      <th>2021-04-22</th>\n",
              "      <td>513.960022</td>\n",
              "      <td>500.549988</td>\n",
              "      <td>513.820007</td>\n",
              "      <td>508.779999</td>\n",
              "      <td>9061100.0</td>\n",
              "      <td>508.779999</td>\n",
              "    </tr>\n",
              "    <tr>\n",
              "      <th>2021-04-23</th>\n",
              "      <td>509.700012</td>\n",
              "      <td>500.700012</td>\n",
              "      <td>509.010010</td>\n",
              "      <td>505.549988</td>\n",
              "      <td>7307700.0</td>\n",
              "      <td>505.549988</td>\n",
              "    </tr>\n",
              "  </tbody>\n",
              "</table>\n",
              "<p>2342 rows × 6 columns</p>\n",
              "</div>"
            ],
            "text/plain": [
              "                  High         Low  ...       Volume   Adj Close\n",
              "Date                                ...                         \n",
              "2012-01-03   10.388571   10.018571  ...   29213800.0   10.320000\n",
              "2012-01-04   11.567143   10.258571  ...  100489900.0   11.492857\n",
              "2012-01-05   11.694286   11.040000  ...   86552900.0   11.328571\n",
              "2012-01-06   12.471429   11.242857  ...  125610800.0   12.327143\n",
              "2012-01-09   14.235714   12.448571  ...  214073300.0   14.025714\n",
              "...                ...         ...  ...          ...         ...\n",
              "2021-04-19  556.440002  545.530029  ...    4288700.0  554.440002\n",
              "2021-04-20  563.559998  546.299988  ...   11257600.0  549.570007\n",
              "2021-04-21  515.460022  503.600006  ...   22897400.0  508.899994\n",
              "2021-04-22  513.960022  500.549988  ...    9061100.0  508.779999\n",
              "2021-04-23  509.700012  500.700012  ...    7307700.0  505.549988\n",
              "\n",
              "[2342 rows x 6 columns]"
            ]
          },
          "metadata": {
            "tags": []
          },
          "execution_count": 2
        }
      ]
    },
    {
      "cell_type": "code",
      "metadata": {
        "colab": {
          "base_uri": "https://localhost:8080/",
          "height": 518
        },
        "id": "8nHSp1oL2mxb",
        "outputId": "05890ebb-32ab-444d-a331-ade26dc16f64"
      },
      "source": [
        "plt.figure(figsize=(16,8))\n",
        "plt.title('Closing Price History')\n",
        "plt.plot(df['Close'])\n",
        "plt.xlabel('Date',fontsize=18)\n",
        "plt.ylabel('Close Price USD ($)', fontsize=18)\n",
        "plt.show()"
      ],
      "execution_count": null,
      "outputs": [
        {
          "output_type": "display_data",
          "data": {
            "image/png": "[encoded data removed]",
            "text/plain": [
              "<Figure size 1152x576 with 1 Axes>"
            ]
          },
          "metadata": {
            "tags": [],
            "needs_background": "light"
          }
        }
      ]
    },
    {
      "cell_type": "code",
      "metadata": {
        "colab": {
          "base_uri": "https://localhost:8080/"
        },
        "id": "t8PN27Ui2pXu",
        "outputId": "73265236-2296-46a0-9e3b-2718ef09c4fc"
      },
      "source": [
        "data=df.filter(['Close'])\n",
        "\n",
        "dataset=data.values\n",
        "\n",
        "training_data_len=math.ceil(len(dataset)*.8)\n",
        " \n",
        "training_data_len"
      ],
      "execution_count": null,
      "outputs": [
        {
          "output_type": "execute_result",
          "data": {
            "text/plain": [
              "1874"
            ]
          },
          "metadata": {
            "tags": []
          },
          "execution_count": 4
        }
      ]
    },
    {
      "cell_type": "code",
      "metadata": {
        "colab": {
          "base_uri": "https://localhost:8080/"
        },
        "id": "BGCPQ30G2v3J",
        "outputId": "74e3cd2c-bd82-4dfe-ab3f-b6bd5847c878"
      },
      "source": [
        "scaler = MinMaxScaler(feature_range=(0,1))\n",
        "scaled_data= scaler.fit_transform(dataset)\n",
        "\n",
        "scaled_data"
      ],
      "execution_count": null,
      "outputs": [
        {
          "output_type": "execute_result",
          "data": {
            "text/plain": [
              "array([[0.00455243],\n",
              "       [0.0065793 ],\n",
              "       [0.0062954 ],\n",
              "       ...,\n",
              "       [0.8661722 ],\n",
              "       [0.86596483],\n",
              "       [0.8603829 ]])"
            ]
          },
          "metadata": {
            "tags": []
          },
          "execution_count": 5
        }
      ]
    },
    {
      "cell_type": "code",
      "metadata": {
        "colab": {
          "base_uri": "https://localhost:8080/"
        },
        "id": "4nwkhubv28d1",
        "outputId": "0c926780-f5ec-47c5-f183-4b57b4d543c8"
      },
      "source": [
        "train_data= scaled_data[0:training_data_len , :]\n",
        "\n",
        "x_train=[]\n",
        "y_train=[]\n",
        "\n",
        "for i in range(60,len(train_data)):\n",
        "  x_train.append(train_data[i-60:i,0])\n",
        "  y_train.append(train_data[i,0])\n",
        "  if i<=60:\n",
        "    print(x_train)\n",
        "    print(y_train)\n",
        "    print()"
      ],
      "execution_count": null,
      "outputs": [
        {
          "output_type": "stream",
          "text": [
            "[array([0.00455243, 0.0065793 , 0.0062954 , 0.00802107, 0.01095646,\n",
            "       0.01037629, 0.00946778, 0.00946778, 0.01001832, 0.01010226,\n",
            "       0.01104533, 0.01225997, 0.01146502, 0.00991463, 0.00959616,\n",
            "       0.01018126, 0.01535829, 0.01727901, 0.01768389, 0.01639271,\n",
            "       0.01707657, 0.01733085, 0.01793076, 0.01862696, 0.01828874,\n",
            "       0.01733085, 0.01753823, 0.01731357, 0.01592364, 0.01710125,\n",
            "       0.01685191, 0.01681488, 0.01680006, 0.01570146, 0.01446706,\n",
            "       0.01461272, 0.01428684, 0.0137289 , 0.01469419, 0.01405478,\n",
            "       0.01455347, 0.01513364, 0.01407453, 0.01316602, 0.01268707,\n",
            "       0.01339808, 0.01365977, 0.01293642, 0.01297345, 0.01270188,\n",
            "       0.01391653, 0.01386468, 0.01494354, 0.01511389, 0.01636803,\n",
            "       0.01602981, 0.01639025, 0.01683463, 0.01650875, 0.01604955])]\n",
            "[0.015121292204646121]\n",
            "\n"
          ],
          "name": "stdout"
        }
      ]
    },
    {
      "cell_type": "code",
      "metadata": {
        "id": "hqH6pOlc3DkD"
      },
      "source": [
        "x_train,y_train=np.array(x_train),np.array(y_train)"
      ],
      "execution_count": null,
      "outputs": []
    },
    {
      "cell_type": "code",
      "metadata": {
        "colab": {
          "base_uri": "https://localhost:8080/"
        },
        "id": "OBR9UaRu3FwG",
        "outputId": "10c5fb7c-c10f-418e-dbb8-fd6c6e167887"
      },
      "source": [
        "x_train=np.reshape(x_train,(x_train.shape[0],x_train.shape[1],1))\n",
        "x_train.shape"
      ],
      "execution_count": null,
      "outputs": [
        {
          "output_type": "execute_result",
          "data": {
            "text/plain": [
              "(1814, 60, 1)"
            ]
          },
          "metadata": {
            "tags": []
          },
          "execution_count": 8
        }
      ]
    },
    {
      "cell_type": "code",
      "metadata": {
        "id": "bO1EU9Mu3IAs"
      },
      "source": [
        "model = Sequential()\n",
        "model.add(LSTM(50, return_sequences=True,input_shape=(x_train.shape[1],1)))\n",
        "model.add(LSTM(50,return_sequences=False))\n",
        "model.add(Dense(25))\n",
        "model.add(Dense(1))"
      ],
      "execution_count": null,
      "outputs": []
    },
    {
      "cell_type": "code",
      "metadata": {
        "id": "35ZKgd9F3K40"
      },
      "source": [
        "model.compile(optimizer='adam',loss='mean_squared_error')"
      ],
      "execution_count": null,
      "outputs": []
    },
    {
      "cell_type": "code",
      "metadata": {
        "colab": {
          "base_uri": "https://localhost:8080/"
        },
        "id": "TBR7lKt-3Nmq",
        "outputId": "f0ca45c4-501f-463a-e586-0c4d4ab0001c"
      },
      "source": [
        "model.fit(x_train,y_train,batch_size=1,epochs=1)"
      ],
      "execution_count": null,
      "outputs": [
        {
          "output_type": "stream",
          "text": [
            "1814/1814 [==============================] - 56s 28ms/step - loss: 0.0017\n"
          ],
          "name": "stdout"
        },
        {
          "output_type": "execute_result",
          "data": {
            "text/plain": [
              "<tensorflow.python.keras.callbacks.History at 0x7fb70ac5ced0>"
            ]
          },
          "metadata": {
            "tags": []
          },
          "execution_count": 11
        }
      ]
    },
    {
      "cell_type": "code",
      "metadata": {
        "id": "SRIWhC9p3Rt5"
      },
      "source": [
        "test_data=scaled_data[training_data_len - 60:,:]\n",
        "\n",
        "x_test=[]\n",
        "y_test=dataset[training_data_len:,:]\n",
        "for i in range(60,len(test_data)):\n",
        "  x_test.append(test_data[i-60:i,0])"
      ],
      "execution_count": null,
      "outputs": []
    },
    {
      "cell_type": "code",
      "metadata": {
        "id": "ZrbS_B5i3dEw"
      },
      "source": [
        "x_test=np.array(x_test)"
      ],
      "execution_count": null,
      "outputs": []
    },
    {
      "cell_type": "code",
      "metadata": {
        "id": "AuXLic4H3fLz"
      },
      "source": [
        "x_test=np.reshape(x_test,(x_test.shape[0],x_test.shape[1],1))"
      ],
      "execution_count": null,
      "outputs": []
    },
    {
      "cell_type": "code",
      "metadata": {
        "id": "8v2rsxj43hco"
      },
      "source": [
        "predictions= model.predict(x_test)\n",
        "predictions=scaler.inverse_transform(predictions)"
      ],
      "execution_count": null,
      "outputs": []
    },
    {
      "cell_type": "code",
      "metadata": {
        "colab": {
          "base_uri": "https://localhost:8080/"
        },
        "id": "OQHdQAHn3jh1",
        "outputId": "9ff1ed22-020a-4baf-e99d-88c56c8a4863"
      },
      "source": [
        "rmse= np.sqrt(np.mean(predictions-y_test)**2)\n",
        "rmse"
      ],
      "execution_count": null,
      "outputs": [
        {
          "output_type": "execute_result",
          "data": {
            "text/plain": [
              "22.573457832010384"
            ]
          },
          "metadata": {
            "tags": []
          },
          "execution_count": 16
        }
      ]
    },
    {
      "cell_type": "code",
      "metadata": {
        "colab": {
          "base_uri": "https://localhost:8080/",
          "height": 584
        },
        "id": "cLo9ZxXg3nzg",
        "outputId": "124a732a-d75a-49f2-83ca-d773a71c1a0e"
      },
      "source": [
        "train=data[:training_data_len]\n",
        "valid=data[training_data_len:]\n",
        "valid['Predictions']=predictions\n",
        "\n",
        "plt.figure(figsize=(16,8))\n",
        "plt.title('Model')\n",
        "plt.xlabel('Date',fontsize=18)\n",
        "plt.ylabel('Close Price USD ($)',fontsize=18)\n",
        "plt.plot(train['Close'])\n",
        "plt.plot(valid[['Close','Predictions']])\n",
        "plt.legend(['Train','Val','Predictions'],loc='lower right')\n",
        "plt.show()"
      ],
      "execution_count": null,
      "outputs": [
        {
          "output_type": "stream",
          "text": [
            "/usr/local/lib/python3.7/dist-packages/ipykernel_launcher.py:3: SettingWithCopyWarning: \n",
            "A value is trying to be set on a copy of a slice from a DataFrame.\n",
            "Try using .loc[row_indexer,col_indexer] = value instead\n",
            "\n",
            "See the caveats in the documentation: https://pandas.pydata.org/pandas-docs/stable/user_guide/indexing.html#returning-a-view-versus-a-copy\n",
            "  This is separate from the ipykernel package so we can avoid doing imports until\n"
          ],
          "name": "stderr"
        },
        {
          "output_type": "display_data",
          "data": {
            "image/png": "[encoded data removed]",
            "text/plain": [
              "<Figure size 1152x576 with 1 Axes>"
            ]
          },
          "metadata": {
            "tags": [],
            "needs_background": "light"
          }
        }
      ]
    },
    {
      "cell_type": "code",
      "metadata": {
        "colab": {
          "base_uri": "https://localhost:8080/"
        },
        "id": "Wg2_mnsA3rQx",
        "outputId": "6a24c553-6bf7-48d8-c655-d74871cda5ae"
      },
      "source": [
        "\n",
        "stock=web.DataReader('NFLX',data_source='yahoo',start='2012-01-01',end='2021-04-21')\n",
        "\n",
        "new_df=stock.filter(['Close'])\n",
        "\n",
        "last_60_days=new_df[-60:].values\n",
        "\n",
        "last_60_days_scaled=scaler.transform(last_60_days)\n",
        "\n",
        "X_test=[]\n",
        "\n",
        "X_test.append(last_60_days_scaled)\n",
        "\n",
        "X_test=np.array(X_test)\n",
        "\n",
        "X_test=np.reshape(X_test,(X_test.shape[0],X_test.shape[1],1))\n",
        "\n",
        "pred_price=model.predict(X_test)\n",
        "\n",
        "pred_price=scaler.inverse_transform(pred_price)\n",
        "print(pred_price)"
      ],
      "execution_count": null,
      "outputs": [
        {
          "output_type": "stream",
          "text": [
            "[[506.8906]]\n"
          ],
          "name": "stdout"
        }
      ]
    },
    {
      "cell_type": "code",
      "metadata": {
        "colab": {
          "base_uri": "https://localhost:8080/"
        },
        "id": "jwRB4XG83tZn",
        "outputId": "a054ecb1-04d9-4cd4-9db2-b43e392ae071"
      },
      "source": [
        "stock2=web.DataReader('NFLX',data_source='yahoo',start='2021-04-22',end='2021-04-22')\n",
        "print(stock2['Close'])"
      ],
      "execution_count": null,
      "outputs": [
        {
          "output_type": "stream",
          "text": [
            "Date\n",
            "2021-04-22    508.779999\n",
            "Name: Close, dtype: float64\n"
          ],
          "name": "stdout"
        }
      ]
    }
  ]
}